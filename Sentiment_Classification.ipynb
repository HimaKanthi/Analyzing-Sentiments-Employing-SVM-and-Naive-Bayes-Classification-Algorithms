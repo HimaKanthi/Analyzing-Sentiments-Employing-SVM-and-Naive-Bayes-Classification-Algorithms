{
  "nbformat": 4,
  "nbformat_minor": 0,
  "metadata": {
    "kernelspec": {
      "display_name": "Python 3",
      "language": "python",
      "name": "python3"
    },
    "language_info": {
      "codemirror_mode": {
        "name": "ipython",
        "version": 3
      },
      "file_extension": ".py",
      "mimetype": "text/x-python",
      "name": "python",
      "nbconvert_exporter": "python",
      "pygments_lexer": "ipython3",
      "version": "3.8.3"
    },
    "colab": {
      "name": "Sentiment_Classification.ipynb",
      "provenance": []
    }
  },
  "cells": [
    {
      "cell_type": "markdown",
      "metadata": {
        "id": "rGzOhbcHYEKm"
      },
      "source": [
        "### Imports"
      ]
    },
    {
      "cell_type": "code",
      "metadata": {
        "id": "EyzPz98oYEKo"
      },
      "source": [
        "import pandas as pd\n",
        "from nltk.tokenize import word_tokenize\n",
        "from nltk import pos_tag\n",
        "from nltk.corpus import stopwords\n",
        "from nltk.stem import WordNetLemmatizer\n",
        "from nltk.corpus import wordnet as wn\n",
        "from sklearn.feature_extraction.text import TfidfVectorizer\n",
        "from sklearn import model_selection, svm, naive_bayes\n",
        "from sklearn.metrics import accuracy_score,classification_report\n",
        "from sklearn.preprocessing import LabelEncoder\n",
        "import seaborn as sn\n",
        "import matplotlib.pyplot as plt\n",
        "import math"
      ],
      "execution_count": null,
      "outputs": []
    },
    {
      "cell_type": "markdown",
      "metadata": {
        "id": "u5uno0OWYEKq"
      },
      "source": [
        "### Uploading dataset - 01"
      ]
    },
    {
      "cell_type": "markdown",
      "metadata": {
        "id": "YjntGa18YEKs"
      },
      "source": [
        "## Data Preprocessing"
      ]
    },
    {
      "cell_type": "code",
      "metadata": {
        "id": "HZHztnDTZfja"
      },
      "source": [
        "## Product Reviews Dataset\n",
        "df01=pd.read_csv(r\"C:\\Users\\admin\\Downloads\\Text-Classification-master\\Text-Classification-master\\corpus.csv\",encoding='latin-1')"
      ],
      "execution_count": null,
      "outputs": []
    },
    {
      "cell_type": "markdown",
      "metadata": {
        "id": "6I-7kydhYEKt"
      },
      "source": [
        "### Upper case to lower case transformation"
      ]
    },
    {
      "cell_type": "code",
      "metadata": {
        "id": "FGzFcWTKYEKu"
      },
      "source": [
        "df01['text']=[sentence.lower() for sentence in df01['text']]"
      ],
      "execution_count": null,
      "outputs": []
    },
    {
      "cell_type": "code",
      "metadata": {
        "id": "KP62ScOlYEKw",
        "outputId": "6caa2ceb-b22a-4f82-fc25-9d93ec1bb91f"
      },
      "source": [
        "df01"
      ],
      "execution_count": null,
      "outputs": [
        {
          "data": {
            "text/html": [
              "<div>\n",
              "<style scoped>\n",
              "    .dataframe tbody tr th:only-of-type {\n",
              "        vertical-align: middle;\n",
              "    }\n",
              "\n",
              "    .dataframe tbody tr th {\n",
              "        vertical-align: top;\n",
              "    }\n",
              "\n",
              "    .dataframe thead th {\n",
              "        text-align: right;\n",
              "    }\n",
              "</style>\n",
              "<table border=\"1\" class=\"dataframe\">\n",
              "  <thead>\n",
              "    <tr style=\"text-align: right;\">\n",
              "      <th></th>\n",
              "      <th>text</th>\n",
              "      <th>label</th>\n",
              "    </tr>\n",
              "  </thead>\n",
              "  <tbody>\n",
              "    <tr>\n",
              "      <th>0</th>\n",
              "      <td>stuning even for the non-gamer: this sound tr...</td>\n",
              "      <td>__label__2</td>\n",
              "    </tr>\n",
              "    <tr>\n",
              "      <th>1</th>\n",
              "      <td>the best soundtrack ever to anything.: i'm re...</td>\n",
              "      <td>__label__2</td>\n",
              "    </tr>\n",
              "    <tr>\n",
              "      <th>2</th>\n",
              "      <td>amazing!: this soundtrack is my favorite musi...</td>\n",
              "      <td>__label__2</td>\n",
              "    </tr>\n",
              "    <tr>\n",
              "      <th>3</th>\n",
              "      <td>excellent soundtrack: i truly like this sound...</td>\n",
              "      <td>__label__2</td>\n",
              "    </tr>\n",
              "    <tr>\n",
              "      <th>4</th>\n",
              "      <td>remember, pull your jaw off the floor after h...</td>\n",
              "      <td>__label__2</td>\n",
              "    </tr>\n",
              "    <tr>\n",
              "      <th>...</th>\n",
              "      <td>...</td>\n",
              "      <td>...</td>\n",
              "    </tr>\n",
              "    <tr>\n",
              "      <th>9995</th>\n",
              "      <td>a revelation of life in small town america in...</td>\n",
              "      <td>__label__2</td>\n",
              "    </tr>\n",
              "    <tr>\n",
              "      <th>9996</th>\n",
              "      <td>great biography of a very interesting journal...</td>\n",
              "      <td>__label__2</td>\n",
              "    </tr>\n",
              "    <tr>\n",
              "      <th>9997</th>\n",
              "      <td>interesting subject; poor presentation: you'd...</td>\n",
              "      <td>__label__1</td>\n",
              "    </tr>\n",
              "    <tr>\n",
              "      <th>9998</th>\n",
              "      <td>don't buy: the box looked used and it is obvi...</td>\n",
              "      <td>__label__1</td>\n",
              "    </tr>\n",
              "    <tr>\n",
              "      <th>9999</th>\n",
              "      <td>beautiful pen and fast delivery.: the pen was...</td>\n",
              "      <td>__label__2</td>\n",
              "    </tr>\n",
              "  </tbody>\n",
              "</table>\n",
              "<p>10000 rows × 2 columns</p>\n",
              "</div>"
            ],
            "text/plain": [
              "                                                   text        label\n",
              "0      stuning even for the non-gamer: this sound tr...  __label__2 \n",
              "1      the best soundtrack ever to anything.: i'm re...  __label__2 \n",
              "2      amazing!: this soundtrack is my favorite musi...  __label__2 \n",
              "3      excellent soundtrack: i truly like this sound...  __label__2 \n",
              "4      remember, pull your jaw off the floor after h...  __label__2 \n",
              "...                                                 ...          ...\n",
              "9995   a revelation of life in small town america in...  __label__2 \n",
              "9996   great biography of a very interesting journal...  __label__2 \n",
              "9997   interesting subject; poor presentation: you'd...  __label__1 \n",
              "9998   don't buy: the box looked used and it is obvi...  __label__1 \n",
              "9999   beautiful pen and fast delivery.: the pen was...  __label__2 \n",
              "\n",
              "[10000 rows x 2 columns]"
            ]
          },
          "execution_count": 7,
          "metadata": {},
          "output_type": "execute_result"
        }
      ]
    },
    {
      "cell_type": "markdown",
      "metadata": {
        "id": "7aVoapFkYEKz"
      },
      "source": [
        "### Reconstructing the sentence"
      ]
    },
    {
      "cell_type": "code",
      "metadata": {
        "id": "VEb7t2ZzYEK2"
      },
      "source": [
        "import re\n",
        "def reconstruct(sentence):\n",
        "    #Removes angular breaks\n",
        "    sentence = re.sub(r\"<br/>\", \" \", str(sentence))\n",
        "    #Removes the words which are not started with alphabets\n",
        "    sentence = re.sub(r\"[^a-zA-Z]\", \" \", str(sentence))\n",
        "    #Removing URL's\n",
        "    sentence = re.sub(r\"http\\S+\", \" \", str(sentence))\n",
        "    #Removing '@' symbols\n",
        "    sentence = re.sub(r\"@\\S+\", \" \", str(sentence))\n",
        "    sentence = re.sub(r\"@\", \" \", str(sentence))\n",
        "    #Removing aphostrophies and reframing the words\n",
        "    sentence = re.sub(r\"\\'t\", \" not\", str(sentence))\n",
        "    sentence = re.sub(r\"\\'re\", \" are\", str(sentence))\n",
        "    sentence = re.sub(r\"\\'s\", \" is\", str(sentence))\n",
        "    sentence = re.sub(r\"\\'d\", \" would\", str(sentence))\n",
        "    sentence = re.sub(r\"\\'ll\", \" will\", str(sentence))\n",
        "    sentence = re.sub(r\"\\'ve\", \" have\", str(sentence))\n",
        "    sentence = re.sub(r\"\\'m\", \" am\", str(sentence))\n",
        "    return sentence"
      ],
      "execution_count": null,
      "outputs": []
    },
    {
      "cell_type": "code",
      "metadata": {
        "id": "iF1PJqVfYEK4"
      },
      "source": [
        "df01['text']=[reconstruct(sentence) for sentence in df01['text']]"
      ],
      "execution_count": null,
      "outputs": []
    },
    {
      "cell_type": "code",
      "metadata": {
        "id": "759rxcRIYEK4",
        "outputId": "1336d71b-f16b-441d-986f-62633f83e99f"
      },
      "source": [
        "df01"
      ],
      "execution_count": null,
      "outputs": [
        {
          "data": {
            "text/html": [
              "<div>\n",
              "<style scoped>\n",
              "    .dataframe tbody tr th:only-of-type {\n",
              "        vertical-align: middle;\n",
              "    }\n",
              "\n",
              "    .dataframe tbody tr th {\n",
              "        vertical-align: top;\n",
              "    }\n",
              "\n",
              "    .dataframe thead th {\n",
              "        text-align: right;\n",
              "    }\n",
              "</style>\n",
              "<table border=\"1\" class=\"dataframe\">\n",
              "  <thead>\n",
              "    <tr style=\"text-align: right;\">\n",
              "      <th></th>\n",
              "      <th>text</th>\n",
              "      <th>label</th>\n",
              "    </tr>\n",
              "  </thead>\n",
              "  <tbody>\n",
              "    <tr>\n",
              "      <th>0</th>\n",
              "      <td>stuning even for the non gamer  this sound tr...</td>\n",
              "      <td>__label__2</td>\n",
              "    </tr>\n",
              "    <tr>\n",
              "      <th>1</th>\n",
              "      <td>the best soundtrack ever to anything   i m re...</td>\n",
              "      <td>__label__2</td>\n",
              "    </tr>\n",
              "    <tr>\n",
              "      <th>2</th>\n",
              "      <td>amazing   this soundtrack is my favorite musi...</td>\n",
              "      <td>__label__2</td>\n",
              "    </tr>\n",
              "    <tr>\n",
              "      <th>3</th>\n",
              "      <td>excellent soundtrack  i truly like this sound...</td>\n",
              "      <td>__label__2</td>\n",
              "    </tr>\n",
              "    <tr>\n",
              "      <th>4</th>\n",
              "      <td>remember  pull your jaw off the floor after h...</td>\n",
              "      <td>__label__2</td>\n",
              "    </tr>\n",
              "    <tr>\n",
              "      <th>...</th>\n",
              "      <td>...</td>\n",
              "      <td>...</td>\n",
              "    </tr>\n",
              "    <tr>\n",
              "      <th>9995</th>\n",
              "      <td>a revelation of life in small town america in...</td>\n",
              "      <td>__label__2</td>\n",
              "    </tr>\n",
              "    <tr>\n",
              "      <th>9996</th>\n",
              "      <td>great biography of a very interesting journal...</td>\n",
              "      <td>__label__2</td>\n",
              "    </tr>\n",
              "    <tr>\n",
              "      <th>9997</th>\n",
              "      <td>interesting subject  poor presentation  you d...</td>\n",
              "      <td>__label__1</td>\n",
              "    </tr>\n",
              "    <tr>\n",
              "      <th>9998</th>\n",
              "      <td>don t buy  the box looked used and it is obvi...</td>\n",
              "      <td>__label__1</td>\n",
              "    </tr>\n",
              "    <tr>\n",
              "      <th>9999</th>\n",
              "      <td>beautiful pen and fast delivery   the pen was...</td>\n",
              "      <td>__label__2</td>\n",
              "    </tr>\n",
              "  </tbody>\n",
              "</table>\n",
              "<p>10000 rows × 2 columns</p>\n",
              "</div>"
            ],
            "text/plain": [
              "                                                   text        label\n",
              "0      stuning even for the non gamer  this sound tr...  __label__2 \n",
              "1      the best soundtrack ever to anything   i m re...  __label__2 \n",
              "2      amazing   this soundtrack is my favorite musi...  __label__2 \n",
              "3      excellent soundtrack  i truly like this sound...  __label__2 \n",
              "4      remember  pull your jaw off the floor after h...  __label__2 \n",
              "...                                                 ...          ...\n",
              "9995   a revelation of life in small town america in...  __label__2 \n",
              "9996   great biography of a very interesting journal...  __label__2 \n",
              "9997   interesting subject  poor presentation  you d...  __label__1 \n",
              "9998   don t buy  the box looked used and it is obvi...  __label__1 \n",
              "9999   beautiful pen and fast delivery   the pen was...  __label__2 \n",
              "\n",
              "[10000 rows x 2 columns]"
            ]
          },
          "execution_count": 10,
          "metadata": {},
          "output_type": "execute_result"
        }
      ]
    },
    {
      "cell_type": "markdown",
      "metadata": {
        "id": "VJ63fc2bYEK5"
      },
      "source": [
        "### Word Tokenization"
      ]
    },
    {
      "cell_type": "code",
      "metadata": {
        "id": "GLOxiky9YEK6"
      },
      "source": [
        "df01['text']= [word_tokenize(entry) for entry in df01['text']]"
      ],
      "execution_count": null,
      "outputs": []
    },
    {
      "cell_type": "code",
      "metadata": {
        "id": "VShPVTwJYEK7",
        "outputId": "fa0e406f-2c04-4489-966f-2f6be6a13c76"
      },
      "source": [
        "df01"
      ],
      "execution_count": null,
      "outputs": [
        {
          "data": {
            "text/html": [
              "<div>\n",
              "<style scoped>\n",
              "    .dataframe tbody tr th:only-of-type {\n",
              "        vertical-align: middle;\n",
              "    }\n",
              "\n",
              "    .dataframe tbody tr th {\n",
              "        vertical-align: top;\n",
              "    }\n",
              "\n",
              "    .dataframe thead th {\n",
              "        text-align: right;\n",
              "    }\n",
              "</style>\n",
              "<table border=\"1\" class=\"dataframe\">\n",
              "  <thead>\n",
              "    <tr style=\"text-align: right;\">\n",
              "      <th></th>\n",
              "      <th>text</th>\n",
              "      <th>label</th>\n",
              "    </tr>\n",
              "  </thead>\n",
              "  <tbody>\n",
              "    <tr>\n",
              "      <th>0</th>\n",
              "      <td>[stuning, even, for, the, non, gamer, this, so...</td>\n",
              "      <td>__label__2</td>\n",
              "    </tr>\n",
              "    <tr>\n",
              "      <th>1</th>\n",
              "      <td>[the, best, soundtrack, ever, to, anything, i,...</td>\n",
              "      <td>__label__2</td>\n",
              "    </tr>\n",
              "    <tr>\n",
              "      <th>2</th>\n",
              "      <td>[amazing, this, soundtrack, is, my, favorite, ...</td>\n",
              "      <td>__label__2</td>\n",
              "    </tr>\n",
              "    <tr>\n",
              "      <th>3</th>\n",
              "      <td>[excellent, soundtrack, i, truly, like, this, ...</td>\n",
              "      <td>__label__2</td>\n",
              "    </tr>\n",
              "    <tr>\n",
              "      <th>4</th>\n",
              "      <td>[remember, pull, your, jaw, off, the, floor, a...</td>\n",
              "      <td>__label__2</td>\n",
              "    </tr>\n",
              "    <tr>\n",
              "      <th>...</th>\n",
              "      <td>...</td>\n",
              "      <td>...</td>\n",
              "    </tr>\n",
              "    <tr>\n",
              "      <th>9995</th>\n",
              "      <td>[a, revelation, of, life, in, small, town, ame...</td>\n",
              "      <td>__label__2</td>\n",
              "    </tr>\n",
              "    <tr>\n",
              "      <th>9996</th>\n",
              "      <td>[great, biography, of, a, very, interesting, j...</td>\n",
              "      <td>__label__2</td>\n",
              "    </tr>\n",
              "    <tr>\n",
              "      <th>9997</th>\n",
              "      <td>[interesting, subject, poor, presentation, you...</td>\n",
              "      <td>__label__1</td>\n",
              "    </tr>\n",
              "    <tr>\n",
              "      <th>9998</th>\n",
              "      <td>[don, t, buy, the, box, looked, used, and, it,...</td>\n",
              "      <td>__label__1</td>\n",
              "    </tr>\n",
              "    <tr>\n",
              "      <th>9999</th>\n",
              "      <td>[beautiful, pen, and, fast, delivery, the, pen...</td>\n",
              "      <td>__label__2</td>\n",
              "    </tr>\n",
              "  </tbody>\n",
              "</table>\n",
              "<p>10000 rows × 2 columns</p>\n",
              "</div>"
            ],
            "text/plain": [
              "                                                   text        label\n",
              "0     [stuning, even, for, the, non, gamer, this, so...  __label__2 \n",
              "1     [the, best, soundtrack, ever, to, anything, i,...  __label__2 \n",
              "2     [amazing, this, soundtrack, is, my, favorite, ...  __label__2 \n",
              "3     [excellent, soundtrack, i, truly, like, this, ...  __label__2 \n",
              "4     [remember, pull, your, jaw, off, the, floor, a...  __label__2 \n",
              "...                                                 ...          ...\n",
              "9995  [a, revelation, of, life, in, small, town, ame...  __label__2 \n",
              "9996  [great, biography, of, a, very, interesting, j...  __label__2 \n",
              "9997  [interesting, subject, poor, presentation, you...  __label__1 \n",
              "9998  [don, t, buy, the, box, looked, used, and, it,...  __label__1 \n",
              "9999  [beautiful, pen, and, fast, delivery, the, pen...  __label__2 \n",
              "\n",
              "[10000 rows x 2 columns]"
            ]
          },
          "execution_count": 12,
          "metadata": {},
          "output_type": "execute_result"
        }
      ]
    },
    {
      "cell_type": "markdown",
      "metadata": {
        "id": "49BmXnu8YEK7"
      },
      "source": [
        "### Removing stopwords and Lemmatization"
      ]
    },
    {
      "cell_type": "code",
      "metadata": {
        "id": "Us_JtmsEYEK8"
      },
      "source": [
        "## Defining set containing all stopwords in english\n",
        "stpwordlist=['i', 'me', 'my', 'myself', 'we', 'our', 'ours', 'ourselves', 'you', \"you're\", \"you've\", \"you'll\", \"you'd\", 'your',\n",
        " 'yours', 'yourself', 'yourselves', 'he', 'him', 'his', 'himself', 'she', \"she's\", 'her', 'hers', 'herself', 'it', \"it's\",\n",
        " 'its', 'itself', 'they', 'them', 'their', 'theirs', 'themselves', 'what', 'which', 'who', 'whom', 'this', 'that', \"that'll\",\n",
        " 'these', 'those', 'am', 'is', 'are', 'was', 'were', 'be', 'been', 'being', 'have', 'has', 'had', 'having', 'do', 'does',\n",
        " 'did', 'doing', 'a', 'an', 'the', 'and', 'but', 'if', 'or', 'because', 'as', 'until', 'while', 'of', 'at', 'by', 'for',\n",
        " 'with', 'about', 'against', 'between', 'into', 'through', 'during', 'before', 'after', 'above', 'below', 'to', 'from', 'up',\n",
        " 'down', 'in', 'out', 'on', 'off', 'over', 'under', 'again', 'further', 'then', 'once', 'here', 'there', 'when', 'where',\n",
        " 'why', 'how', 'all', 'any', 'both', 'each', 'few', 'more', 'most', 'other', 'some', 'such', 'only', 'own', 'same', 'so',\n",
        " 'than', 'too', 'very', 's', 't', 'can', 'will', 'just', 'now', 'd', 'll', 'm', 'o', 're', 've', 'y']"
      ],
      "execution_count": null,
      "outputs": []
    },
    {
      "cell_type": "code",
      "metadata": {
        "id": "RS2gzamoYEK8"
      },
      "source": [
        "from collections import defaultdict\n",
        "\n",
        "# WordNetLemmatizer requires Pos tags to understand if the word is noun or verb or adjective etc. By default it is set to Noun\n",
        "tag_map = defaultdict(lambda : wn.NOUN)\n",
        "tag_map['J'] = wn.ADJ\n",
        "tag_map['V'] = wn.VERB\n",
        "tag_map['R'] = wn.ADV\n",
        "for index,entry in enumerate(df01['text']):\n",
        "    # Declaring Empty List to store the words that follow the rules for this step\n",
        "    Final_words = []\n",
        "    # Initializing WordNetLemmatizer()\n",
        "    word_Lemmatized = WordNetLemmatizer()\n",
        "    # pos_tag function below will provide the 'tag' i.e if the word is Noun(N) or Verb(V) or something else.\n",
        "    for word, tag in pos_tag(entry):\n",
        "        # Below condition is to check for Stop words and consider only alphabets\n",
        "        if word not in stpwordlist and word.isalpha():\n",
        "            word_Final = word_Lemmatized.lemmatize(word,tag_map[tag[0]])\n",
        "            Final_words.append(word_Final)\n",
        "    # The final processed set of words for each iteration will be stored in 'text_final'\n",
        "    df01.loc[index,'text_final'] = str(Final_words)"
      ],
      "execution_count": null,
      "outputs": []
    },
    {
      "cell_type": "code",
      "metadata": {
        "id": "nJXFoE4MYEK9",
        "outputId": "5c10ccc6-c757-4262-82a0-3760fc5d70f3"
      },
      "source": [
        "df01"
      ],
      "execution_count": null,
      "outputs": [
        {
          "data": {
            "text/html": [
              "<div>\n",
              "<style scoped>\n",
              "    .dataframe tbody tr th:only-of-type {\n",
              "        vertical-align: middle;\n",
              "    }\n",
              "\n",
              "    .dataframe tbody tr th {\n",
              "        vertical-align: top;\n",
              "    }\n",
              "\n",
              "    .dataframe thead th {\n",
              "        text-align: right;\n",
              "    }\n",
              "</style>\n",
              "<table border=\"1\" class=\"dataframe\">\n",
              "  <thead>\n",
              "    <tr style=\"text-align: right;\">\n",
              "      <th></th>\n",
              "      <th>text</th>\n",
              "      <th>label</th>\n",
              "      <th>text_final</th>\n",
              "    </tr>\n",
              "  </thead>\n",
              "  <tbody>\n",
              "    <tr>\n",
              "      <th>0</th>\n",
              "      <td>[stuning, even, for, the, non, gamer, this, so...</td>\n",
              "      <td>__label__2</td>\n",
              "      <td>['stun', 'even', 'non', 'gamer', 'sound', 'tra...</td>\n",
              "    </tr>\n",
              "    <tr>\n",
              "      <th>1</th>\n",
              "      <td>[the, best, soundtrack, ever, to, anything, i,...</td>\n",
              "      <td>__label__2</td>\n",
              "      <td>['best', 'soundtrack', 'ever', 'anything', 're...</td>\n",
              "    </tr>\n",
              "    <tr>\n",
              "      <th>2</th>\n",
              "      <td>[amazing, this, soundtrack, is, my, favorite, ...</td>\n",
              "      <td>__label__2</td>\n",
              "      <td>['amaze', 'soundtrack', 'favorite', 'music', '...</td>\n",
              "    </tr>\n",
              "    <tr>\n",
              "      <th>3</th>\n",
              "      <td>[excellent, soundtrack, i, truly, like, this, ...</td>\n",
              "      <td>__label__2</td>\n",
              "      <td>['excellent', 'soundtrack', 'truly', 'like', '...</td>\n",
              "    </tr>\n",
              "    <tr>\n",
              "      <th>4</th>\n",
              "      <td>[remember, pull, your, jaw, off, the, floor, a...</td>\n",
              "      <td>__label__2</td>\n",
              "      <td>['remember', 'pull', 'jaw', 'floor', 'hear', '...</td>\n",
              "    </tr>\n",
              "    <tr>\n",
              "      <th>...</th>\n",
              "      <td>...</td>\n",
              "      <td>...</td>\n",
              "      <td>...</td>\n",
              "    </tr>\n",
              "    <tr>\n",
              "      <th>9995</th>\n",
              "      <td>[a, revelation, of, life, in, small, town, ame...</td>\n",
              "      <td>__label__2</td>\n",
              "      <td>['revelation', 'life', 'small', 'town', 'ameri...</td>\n",
              "    </tr>\n",
              "    <tr>\n",
              "      <th>9996</th>\n",
              "      <td>[great, biography, of, a, very, interesting, j...</td>\n",
              "      <td>__label__2</td>\n",
              "      <td>['great', 'biography', 'interesting', 'journal...</td>\n",
              "    </tr>\n",
              "    <tr>\n",
              "      <th>9997</th>\n",
              "      <td>[interesting, subject, poor, presentation, you...</td>\n",
              "      <td>__label__1</td>\n",
              "      <td>['interest', 'subject', 'poor', 'presentation'...</td>\n",
              "    </tr>\n",
              "    <tr>\n",
              "      <th>9998</th>\n",
              "      <td>[don, t, buy, the, box, looked, used, and, it,...</td>\n",
              "      <td>__label__1</td>\n",
              "      <td>['don', 'buy', 'box', 'look', 'use', 'obviousl...</td>\n",
              "    </tr>\n",
              "    <tr>\n",
              "      <th>9999</th>\n",
              "      <td>[beautiful, pen, and, fast, delivery, the, pen...</td>\n",
              "      <td>__label__2</td>\n",
              "      <td>['beautiful', 'pen', 'fast', 'delivery', 'pen'...</td>\n",
              "    </tr>\n",
              "  </tbody>\n",
              "</table>\n",
              "<p>10000 rows × 3 columns</p>\n",
              "</div>"
            ],
            "text/plain": [
              "                                                   text        label  \\\n",
              "0     [stuning, even, for, the, non, gamer, this, so...  __label__2    \n",
              "1     [the, best, soundtrack, ever, to, anything, i,...  __label__2    \n",
              "2     [amazing, this, soundtrack, is, my, favorite, ...  __label__2    \n",
              "3     [excellent, soundtrack, i, truly, like, this, ...  __label__2    \n",
              "4     [remember, pull, your, jaw, off, the, floor, a...  __label__2    \n",
              "...                                                 ...          ...   \n",
              "9995  [a, revelation, of, life, in, small, town, ame...  __label__2    \n",
              "9996  [great, biography, of, a, very, interesting, j...  __label__2    \n",
              "9997  [interesting, subject, poor, presentation, you...  __label__1    \n",
              "9998  [don, t, buy, the, box, looked, used, and, it,...  __label__1    \n",
              "9999  [beautiful, pen, and, fast, delivery, the, pen...  __label__2    \n",
              "\n",
              "                                             text_final  \n",
              "0     ['stun', 'even', 'non', 'gamer', 'sound', 'tra...  \n",
              "1     ['best', 'soundtrack', 'ever', 'anything', 're...  \n",
              "2     ['amaze', 'soundtrack', 'favorite', 'music', '...  \n",
              "3     ['excellent', 'soundtrack', 'truly', 'like', '...  \n",
              "4     ['remember', 'pull', 'jaw', 'floor', 'hear', '...  \n",
              "...                                                 ...  \n",
              "9995  ['revelation', 'life', 'small', 'town', 'ameri...  \n",
              "9996  ['great', 'biography', 'interesting', 'journal...  \n",
              "9997  ['interest', 'subject', 'poor', 'presentation'...  \n",
              "9998  ['don', 'buy', 'box', 'look', 'use', 'obviousl...  \n",
              "9999  ['beautiful', 'pen', 'fast', 'delivery', 'pen'...  \n",
              "\n",
              "[10000 rows x 3 columns]"
            ]
          },
          "execution_count": 16,
          "metadata": {},
          "output_type": "execute_result"
        }
      ]
    },
    {
      "cell_type": "markdown",
      "metadata": {
        "id": "cRWb51PJYEK-"
      },
      "source": [
        "## Feature Extractor"
      ]
    },
    {
      "cell_type": "markdown",
      "metadata": {
        "id": "fWvGdaE8YEK-"
      },
      "source": [
        "### Splitting of dataset"
      ]
    },
    {
      "cell_type": "code",
      "metadata": {
        "id": "NEES5urhYEK_"
      },
      "source": [
        "#preparing train and test datasets\n",
        "Train_X,Test_X,Train_Y,Test_Y = model_selection.train_test_split(df01['text_final'],df01['label'],test_size=0.3)"
      ],
      "execution_count": null,
      "outputs": []
    },
    {
      "cell_type": "code",
      "metadata": {
        "id": "zN4ILHpyYEK_"
      },
      "source": [
        "#Encoding\n",
        "Encoder=LabelEncoder()\n",
        "Train_Y=Encoder.fit_transform(Train_Y)\n",
        "Test_Y=Encoder.fit_transform(Test_Y)"
      ],
      "execution_count": null,
      "outputs": []
    },
    {
      "cell_type": "markdown",
      "metadata": {
        "id": "s-XShn4DYELA"
      },
      "source": [
        "### TF-IDF"
      ]
    },
    {
      "cell_type": "code",
      "metadata": {
        "id": "vegzyIGwYELB"
      },
      "source": [
        "# It is a general process of turning a collection of text documents into numerical feature vectors.\n",
        "#Their are many methods to convert text data to vectors which the model can understand but by far the most popular method is called TF-IDF.\n",
        "#This is an acronym than stands for “Term Frequency — Inverse Document” Frequency which are the components of the resulting scores assigned to each word.\n",
        "#Term Frequency: This summarizes how often a given word appears within a document.\n",
        "#Inverse Document Frequency: This down scales words that appear a lot across documents.\n",
        "#Without going into the math, TF-IDF are word frequency scores that try to highlight words that are more interesting, \n",
        "#e.g. frequent in a document but not across documents.\n",
        "#The following syntax can be used to first fit the TG-IDF model on the whole corpus. \n",
        "#This will help TF-IDF build a vocabulary of words which it has learned from the corpus data and it will assign a unique integer number to each of these words. \n",
        "#Their will be maximum of 5000 unique words/features as we have set parameter max_features=5000.\n",
        "#Finally we will transform Train_X and Test_X to vectorized Train_X_Tfidf and Test_X_Tfidf. \n",
        "#These will now contain for each row a list of unique integer number and its associated importance as calculated by TF-IDF\n",
        "\n",
        "Tfidf_vect=TfidfVectorizer(max_features=5000)\n",
        "Tfidf_vect.fit(df01['text_final'])\n",
        "\n",
        "Train_X_Tfidf = Tfidf_vect.transform(Train_X)\n",
        "Test_X_Tfidf = Tfidf_vect.transform(Test_X)"
      ],
      "execution_count": null,
      "outputs": []
    },
    {
      "cell_type": "code",
      "metadata": {
        "id": "mT3lhbWrYELB",
        "outputId": "2d82b873-2a5b-4c94-883f-85c5eb6d8fcb"
      },
      "source": [
        "##Output:\n",
        "#1: Row number of ‘Train_X_Tfidf’, \n",
        "#2: Unique Integer number of each word in the first row, \n",
        "#3: Score calculated by TF-IDF Vectorizer\n",
        "print(Train_X_Tfidf)"
      ],
      "execution_count": null,
      "outputs": [
        {
          "name": "stdout",
          "output_type": "stream",
          "text": [
            "  (0, 4976)\t0.1442400261707064\n",
            "  (0, 4954)\t0.07480346828935616\n",
            "  (0, 4924)\t0.09666193955836566\n",
            "  (0, 4839)\t0.07430562386537194\n",
            "  (0, 4593)\t0.2593724819967132\n",
            "  (0, 4456)\t0.12847515423995898\n",
            "  (0, 4398)\t0.16737093997818928\n",
            "  (0, 4349)\t0.13447591217438282\n",
            "  (0, 4240)\t0.1384746526672988\n",
            "  (0, 4101)\t0.10698735789281685\n",
            "  (0, 4007)\t0.21920778728074836\n",
            "  (0, 3600)\t0.07596006957933145\n",
            "  (0, 3564)\t0.11229762592111577\n",
            "  (0, 3177)\t0.12390858240751622\n",
            "  (0, 3129)\t0.15737947941626285\n",
            "  (0, 3110)\t0.10474069419436179\n",
            "  (0, 3072)\t0.09722476458435508\n",
            "  (0, 3067)\t0.0811469120397769\n",
            "  (0, 3011)\t0.040764512730504916\n",
            "  (0, 2991)\t0.06464264761747547\n",
            "  (0, 2953)\t0.15660636080881568\n",
            "  (0, 2892)\t0.10446379209206397\n",
            "  (0, 2656)\t0.17974165481208437\n",
            "  (0, 2648)\t0.06637423010030781\n",
            "  (0, 2631)\t0.08368281341966402\n",
            "  :\t:\n",
            "  (6998, 510)\t0.08633216087061862\n",
            "  (6998, 332)\t0.10282231748971907\n",
            "  (6998, 152)\t0.11248013152453211\n",
            "  (6998, 131)\t0.07146471553098711\n",
            "  (6998, 16)\t0.10954694646066981\n",
            "  (6999, 4859)\t0.10007324179864463\n",
            "  (6999, 4839)\t0.11914342390149109\n",
            "  (6999, 4649)\t0.23028056815722503\n",
            "  (6999, 4477)\t0.2379743885153874\n",
            "  (6999, 3933)\t0.16591777563667656\n",
            "  (6999, 3893)\t0.1105418137110913\n",
            "  (6999, 3647)\t0.24781500573086182\n",
            "  (6999, 3646)\t0.2379743885153874\n",
            "  (6999, 3615)\t0.38744831641519467\n",
            "  (6999, 3158)\t0.28820209101308053\n",
            "  (6999, 3011)\t0.06536279984928119\n",
            "  (6999, 2790)\t0.18883738306024062\n",
            "  (6999, 2497)\t0.18114356270207824\n",
            "  (6999, 2238)\t0.21860222497315868\n",
            "  (6999, 2003)\t0.3973560005514301\n",
            "  (6999, 1918)\t0.17924991530661372\n",
            "  (6999, 1861)\t0.22859239876936688\n",
            "  (6999, 1579)\t0.1512659248846191\n",
            "  (6999, 928)\t0.19192148887911256\n",
            "  (6999, 858)\t0.22942643388631925\n"
          ]
        }
      ]
    },
    {
      "cell_type": "markdown",
      "metadata": {
        "id": "Zn_ftjJ-YELD"
      },
      "source": [
        "## Classifiers"
      ]
    },
    {
      "cell_type": "markdown",
      "metadata": {
        "id": "rR1sefR1YELE"
      },
      "source": [
        "### Naive Bayes"
      ]
    },
    {
      "cell_type": "code",
      "metadata": {
        "id": "Hejr_5mZYELE",
        "outputId": "b289ec2e-8849-433e-9247-147837a77aa5"
      },
      "source": [
        "# fit the training dataset on the NB classifier\n",
        "Naive = naive_bayes.MultinomialNB()\n",
        "Naive.fit(Train_X_Tfidf,Train_Y)\n",
        "# predict the labels on validation dataset\n",
        "predictions_NB = Naive.predict(Test_X_Tfidf)\n",
        "# Use accuracy_score function to get the accuracy\n",
        "print(\"Naive Bayes Accuracy Score -> \",accuracy_score(predictions_NB, Test_Y)*100)"
      ],
      "execution_count": null,
      "outputs": [
        {
          "name": "stdout",
          "output_type": "stream",
          "text": [
            "Naive Bayes Accuracy Score ->  84.26666666666667\n"
          ]
        }
      ]
    },
    {
      "cell_type": "markdown",
      "metadata": {
        "id": "e3w2fto4YELF"
      },
      "source": [
        "### Support Vector Machine"
      ]
    },
    {
      "cell_type": "code",
      "metadata": {
        "id": "Og1GH5QyYELF",
        "outputId": "86917098-782f-49cb-b793-626ef8a643ab"
      },
      "source": [
        "# Classifier - Algorithm - SVM\n",
        "# fit the training dataset on the classifier\n",
        "SVM = svm.SVC(C=1.0, kernel='linear', degree=3, gamma='auto')\n",
        "SVM.fit(Train_X_Tfidf,Train_Y)\n",
        "# predict the labels on validation dataset\n",
        "predictions_SVM = SVM.predict(Test_X_Tfidf)\n",
        "# Use accuracy_score function to get the accuracy\n",
        "print(\"SVM Accuracy Score -> \",accuracy_score(predictions_SVM, Test_Y)*100)"
      ],
      "execution_count": null,
      "outputs": [
        {
          "name": "stdout",
          "output_type": "stream",
          "text": [
            "SVM Accuracy Score ->  86.76666666666667\n"
          ]
        }
      ]
    },
    {
      "cell_type": "markdown",
      "metadata": {
        "id": "77Q5wSZlYELG"
      },
      "source": [
        "### Confusion Matrix"
      ]
    },
    {
      "cell_type": "code",
      "metadata": {
        "id": "Pw48VH_6YELG",
        "outputId": "dd8147b5-2dfe-4e0d-c6e9-2cfc98ff6e5c"
      },
      "source": [
        "### Naive Bayes\n",
        "confusion_matrix_NB = pd.crosstab(Test_Y, predictions_NB, rownames=['Actual'], colnames=['Predicted'])\n",
        "sn.heatmap(confusion_matrix_NB,annot=True)\n",
        "plt.show()"
      ],
      "execution_count": null,
      "outputs": [
        {
          "data": {
            "image/png": "[encoded data removed]",
            "text/plain": [
              "<Figure size 432x288 with 2 Axes>"
            ]
          },
          "metadata": {
            "needs_background": "light"
          },
          "output_type": "display_data"
        }
      ]
    },
    {
      "cell_type": "code",
      "metadata": {
        "id": "Etn3k0oFYELH",
        "outputId": "b6b7b4a0-9193-4d6a-c751-95001cfdec2d"
      },
      "source": [
        "### Support Vector Machine\n",
        "confusion_matrix_SVM = pd.crosstab(Test_Y, predictions_SVM, rownames=['Actual'], colnames=['Predicted'])\n",
        "sn.heatmap(confusion_matrix_SVM,annot=True)\n",
        "plt.show()"
      ],
      "execution_count": null,
      "outputs": [
        {
          "data": {
            "image/png": "[encoded data removed]",
            "text/plain": [
              "<Figure size 432x288 with 2 Axes>"
            ]
          },
          "metadata": {
            "needs_background": "light"
          },
          "output_type": "display_data"
        }
      ]
    },
    {
      "cell_type": "markdown",
      "metadata": {
        "id": "JGzlw7QQYELI"
      },
      "source": [
        "### Classification reports"
      ]
    },
    {
      "cell_type": "code",
      "metadata": {
        "id": "7ZPMf_NTYELI",
        "outputId": "5a3c0ad7-4609-4453-a7b9-6efb8103ce7d"
      },
      "source": [
        "## Naive Bayes\n",
        "print(classification_report(Test_Y,predictions_NB))"
      ],
      "execution_count": null,
      "outputs": [
        {
          "name": "stdout",
          "output_type": "stream",
          "text": [
            "              precision    recall  f1-score   support\n",
            "\n",
            "           0       0.83      0.87      0.85      1537\n",
            "           1       0.85      0.82      0.84      1463\n",
            "\n",
            "    accuracy                           0.84      3000\n",
            "   macro avg       0.84      0.84      0.84      3000\n",
            "weighted avg       0.84      0.84      0.84      3000\n",
            "\n"
          ]
        }
      ]
    },
    {
      "cell_type": "code",
      "metadata": {
        "id": "gCLOc4FHYELJ",
        "outputId": "aca202b5-02f1-4630-ef0d-031d09ed4cbb"
      },
      "source": [
        "## Support Vector Machine\n",
        "print(classification_report(Test_Y,predictions_SVM))"
      ],
      "execution_count": null,
      "outputs": [
        {
          "name": "stdout",
          "output_type": "stream",
          "text": [
            "              precision    recall  f1-score   support\n",
            "\n",
            "           0       0.87      0.88      0.87      1537\n",
            "           1       0.87      0.86      0.86      1463\n",
            "\n",
            "    accuracy                           0.87      3000\n",
            "   macro avg       0.87      0.87      0.87      3000\n",
            "weighted avg       0.87      0.87      0.87      3000\n",
            "\n"
          ]
        }
      ]
    },
    {
      "cell_type": "markdown",
      "metadata": {
        "id": "a0hGsqbQYELJ"
      },
      "source": [
        "### Uploading dataset - 02"
      ]
    },
    {
      "cell_type": "code",
      "metadata": {
        "id": "OfB-WmdxYELJ"
      },
      "source": [
        "# Musical Instruments Dataset\n",
        "df02=pd.read_csv(r\"C:\\Users\\admin\\Downloads\\Musical_instruments_reviews_dataset\\Musical_instruments_reviews.csv\",encoding='latin-1')"
      ],
      "execution_count": null,
      "outputs": []
    },
    {
      "cell_type": "code",
      "metadata": {
        "id": "tzfxBncFYELK",
        "outputId": "64252188-2361-49f1-f147-a2ad419f665b"
      },
      "source": [
        "df02"
      ],
      "execution_count": null,
      "outputs": [
        {
          "data": {
            "text/html": [
              "<div>\n",
              "<style scoped>\n",
              "    .dataframe tbody tr th:only-of-type {\n",
              "        vertical-align: middle;\n",
              "    }\n",
              "\n",
              "    .dataframe tbody tr th {\n",
              "        vertical-align: top;\n",
              "    }\n",
              "\n",
              "    .dataframe thead th {\n",
              "        text-align: right;\n",
              "    }\n",
              "</style>\n",
              "<table border=\"1\" class=\"dataframe\">\n",
              "  <thead>\n",
              "    <tr style=\"text-align: right;\">\n",
              "      <th></th>\n",
              "      <th>reviewerID</th>\n",
              "      <th>asin</th>\n",
              "      <th>reviewerName</th>\n",
              "      <th>helpful</th>\n",
              "      <th>reviewText</th>\n",
              "      <th>overall</th>\n",
              "      <th>summary</th>\n",
              "      <th>unixReviewTime</th>\n",
              "      <th>reviewTime</th>\n",
              "    </tr>\n",
              "  </thead>\n",
              "  <tbody>\n",
              "    <tr>\n",
              "      <th>0</th>\n",
              "      <td>A2IBPI20UZIR0U</td>\n",
              "      <td>1384719342</td>\n",
              "      <td>cassandra tu \"Yeah, well, that's just like, u...</td>\n",
              "      <td>[0, 0]</td>\n",
              "      <td>Not much to write about here, but it does exac...</td>\n",
              "      <td>5</td>\n",
              "      <td>good</td>\n",
              "      <td>1393545600</td>\n",
              "      <td>02 28, 2014</td>\n",
              "    </tr>\n",
              "    <tr>\n",
              "      <th>1</th>\n",
              "      <td>A14VAT5EAX3D9S</td>\n",
              "      <td>1384719342</td>\n",
              "      <td>Jake</td>\n",
              "      <td>[13, 14]</td>\n",
              "      <td>The product does exactly as it should and is q...</td>\n",
              "      <td>5</td>\n",
              "      <td>Jake</td>\n",
              "      <td>1363392000</td>\n",
              "      <td>03 16, 2013</td>\n",
              "    </tr>\n",
              "    <tr>\n",
              "      <th>2</th>\n",
              "      <td>A195EZSQDW3E21</td>\n",
              "      <td>1384719342</td>\n",
              "      <td>Rick Bennette \"Rick Bennette\"</td>\n",
              "      <td>[1, 1]</td>\n",
              "      <td>The primary job of this device is to block the...</td>\n",
              "      <td>5</td>\n",
              "      <td>It Does The Job Well</td>\n",
              "      <td>1377648000</td>\n",
              "      <td>08 28, 2013</td>\n",
              "    </tr>\n",
              "    <tr>\n",
              "      <th>3</th>\n",
              "      <td>A2C00NNG1ZQQG2</td>\n",
              "      <td>1384719342</td>\n",
              "      <td>RustyBill \"Sunday Rocker\"</td>\n",
              "      <td>[0, 0]</td>\n",
              "      <td>Nice windscreen protects my MXL mic and preven...</td>\n",
              "      <td>5</td>\n",
              "      <td>GOOD WINDSCREEN FOR THE MONEY</td>\n",
              "      <td>1392336000</td>\n",
              "      <td>02 14, 2014</td>\n",
              "    </tr>\n",
              "    <tr>\n",
              "      <th>4</th>\n",
              "      <td>A94QU4C90B1AX</td>\n",
              "      <td>1384719342</td>\n",
              "      <td>SEAN MASLANKA</td>\n",
              "      <td>[0, 0]</td>\n",
              "      <td>This pop filter is great. It looks and perform...</td>\n",
              "      <td>5</td>\n",
              "      <td>No more pops when I record my vocals.</td>\n",
              "      <td>1392940800</td>\n",
              "      <td>02 21, 2014</td>\n",
              "    </tr>\n",
              "    <tr>\n",
              "      <th>...</th>\n",
              "      <td>...</td>\n",
              "      <td>...</td>\n",
              "      <td>...</td>\n",
              "      <td>...</td>\n",
              "      <td>...</td>\n",
              "      <td>...</td>\n",
              "      <td>...</td>\n",
              "      <td>...</td>\n",
              "      <td>...</td>\n",
              "    </tr>\n",
              "    <tr>\n",
              "      <th>10256</th>\n",
              "      <td>A14B2YH83ZXMPP</td>\n",
              "      <td>B00JBIVXGC</td>\n",
              "      <td>Lonnie M. Adams</td>\n",
              "      <td>[0, 0]</td>\n",
              "      <td>Great, just as expected.  Thank to all.</td>\n",
              "      <td>5</td>\n",
              "      <td>Five Stars</td>\n",
              "      <td>1405814400</td>\n",
              "      <td>07 20, 2014</td>\n",
              "    </tr>\n",
              "    <tr>\n",
              "      <th>10257</th>\n",
              "      <td>A1RPTVW5VEOSI</td>\n",
              "      <td>B00JBIVXGC</td>\n",
              "      <td>Michael J. Edelman</td>\n",
              "      <td>[0, 0]</td>\n",
              "      <td>I've been thinking about trying the Nanoweb st...</td>\n",
              "      <td>5</td>\n",
              "      <td>Long life, and for some players, a good econom...</td>\n",
              "      <td>1404259200</td>\n",
              "      <td>07 2, 2014</td>\n",
              "    </tr>\n",
              "    <tr>\n",
              "      <th>10258</th>\n",
              "      <td>AWCJ12KBO5VII</td>\n",
              "      <td>B00JBIVXGC</td>\n",
              "      <td>Michael L. Knapp</td>\n",
              "      <td>[0, 0]</td>\n",
              "      <td>I have tried coated strings in the past ( incl...</td>\n",
              "      <td>4</td>\n",
              "      <td>Good for coated.</td>\n",
              "      <td>1405987200</td>\n",
              "      <td>07 22, 2014</td>\n",
              "    </tr>\n",
              "    <tr>\n",
              "      <th>10259</th>\n",
              "      <td>A2Z7S8B5U4PAKJ</td>\n",
              "      <td>B00JBIVXGC</td>\n",
              "      <td>Rick Langdon \"Scriptor\"</td>\n",
              "      <td>[0, 0]</td>\n",
              "      <td>Well, MADE by Elixir and DEVELOPED with Taylor...</td>\n",
              "      <td>4</td>\n",
              "      <td>Taylor Made</td>\n",
              "      <td>1404172800</td>\n",
              "      <td>07 1, 2014</td>\n",
              "    </tr>\n",
              "    <tr>\n",
              "      <th>10260</th>\n",
              "      <td>A2WA8TDCTGUADI</td>\n",
              "      <td>B00JBIVXGC</td>\n",
              "      <td>TheTerrorBeyond</td>\n",
              "      <td>[0, 0]</td>\n",
              "      <td>These strings are really quite good, but I wou...</td>\n",
              "      <td>4</td>\n",
              "      <td>These strings are really quite good, but I wou...</td>\n",
              "      <td>1405468800</td>\n",
              "      <td>07 16, 2014</td>\n",
              "    </tr>\n",
              "  </tbody>\n",
              "</table>\n",
              "<p>10261 rows × 9 columns</p>\n",
              "</div>"
            ],
            "text/plain": [
              "           reviewerID        asin  \\\n",
              "0      A2IBPI20UZIR0U  1384719342   \n",
              "1      A14VAT5EAX3D9S  1384719342   \n",
              "2      A195EZSQDW3E21  1384719342   \n",
              "3      A2C00NNG1ZQQG2  1384719342   \n",
              "4       A94QU4C90B1AX  1384719342   \n",
              "...               ...         ...   \n",
              "10256  A14B2YH83ZXMPP  B00JBIVXGC   \n",
              "10257   A1RPTVW5VEOSI  B00JBIVXGC   \n",
              "10258   AWCJ12KBO5VII  B00JBIVXGC   \n",
              "10259  A2Z7S8B5U4PAKJ  B00JBIVXGC   \n",
              "10260  A2WA8TDCTGUADI  B00JBIVXGC   \n",
              "\n",
              "                                           reviewerName   helpful  \\\n",
              "0      cassandra tu \"Yeah, well, that's just like, u...    [0, 0]   \n",
              "1                                                  Jake  [13, 14]   \n",
              "2                         Rick Bennette \"Rick Bennette\"    [1, 1]   \n",
              "3                             RustyBill \"Sunday Rocker\"    [0, 0]   \n",
              "4                                         SEAN MASLANKA    [0, 0]   \n",
              "...                                                 ...       ...   \n",
              "10256                                   Lonnie M. Adams    [0, 0]   \n",
              "10257                                Michael J. Edelman    [0, 0]   \n",
              "10258                                  Michael L. Knapp    [0, 0]   \n",
              "10259                           Rick Langdon \"Scriptor\"    [0, 0]   \n",
              "10260                                   TheTerrorBeyond    [0, 0]   \n",
              "\n",
              "                                              reviewText  overall  \\\n",
              "0      Not much to write about here, but it does exac...        5   \n",
              "1      The product does exactly as it should and is q...        5   \n",
              "2      The primary job of this device is to block the...        5   \n",
              "3      Nice windscreen protects my MXL mic and preven...        5   \n",
              "4      This pop filter is great. It looks and perform...        5   \n",
              "...                                                  ...      ...   \n",
              "10256            Great, just as expected.  Thank to all.        5   \n",
              "10257  I've been thinking about trying the Nanoweb st...        5   \n",
              "10258  I have tried coated strings in the past ( incl...        4   \n",
              "10259  Well, MADE by Elixir and DEVELOPED with Taylor...        4   \n",
              "10260  These strings are really quite good, but I wou...        4   \n",
              "\n",
              "                                                 summary  unixReviewTime  \\\n",
              "0                                                   good      1393545600   \n",
              "1                                                   Jake      1363392000   \n",
              "2                                   It Does The Job Well      1377648000   \n",
              "3                          GOOD WINDSCREEN FOR THE MONEY      1392336000   \n",
              "4                  No more pops when I record my vocals.      1392940800   \n",
              "...                                                  ...             ...   \n",
              "10256                                         Five Stars      1405814400   \n",
              "10257  Long life, and for some players, a good econom...      1404259200   \n",
              "10258                                   Good for coated.      1405987200   \n",
              "10259                                        Taylor Made      1404172800   \n",
              "10260  These strings are really quite good, but I wou...      1405468800   \n",
              "\n",
              "        reviewTime  \n",
              "0      02 28, 2014  \n",
              "1      03 16, 2013  \n",
              "2      08 28, 2013  \n",
              "3      02 14, 2014  \n",
              "4      02 21, 2014  \n",
              "...            ...  \n",
              "10256  07 20, 2014  \n",
              "10257   07 2, 2014  \n",
              "10258  07 22, 2014  \n",
              "10259   07 1, 2014  \n",
              "10260  07 16, 2014  \n",
              "\n",
              "[10261 rows x 9 columns]"
            ]
          },
          "execution_count": 57,
          "metadata": {},
          "output_type": "execute_result"
        }
      ]
    },
    {
      "cell_type": "markdown",
      "metadata": {
        "id": "IgGfZkLiYELK"
      },
      "source": [
        "## Data Preprocessing"
      ]
    },
    {
      "cell_type": "markdown",
      "metadata": {
        "id": "0qyaKvFEYELK"
      },
      "source": [
        "### Dropping unnecessary columns"
      ]
    },
    {
      "cell_type": "code",
      "metadata": {
        "id": "gYDQ2c98YELK"
      },
      "source": [
        "df02=df02.drop(columns =['reviewerID', 'asin','reviewerName','helpful','unixReviewTime','reviewTime','summary'])"
      ],
      "execution_count": null,
      "outputs": []
    },
    {
      "cell_type": "code",
      "metadata": {
        "id": "EILoLgazYELL",
        "outputId": "53530359-5602-41d3-e147-45029825abe0"
      },
      "source": [
        "df02"
      ],
      "execution_count": null,
      "outputs": [
        {
          "data": {
            "text/html": [
              "<div>\n",
              "<style scoped>\n",
              "    .dataframe tbody tr th:only-of-type {\n",
              "        vertical-align: middle;\n",
              "    }\n",
              "\n",
              "    .dataframe tbody tr th {\n",
              "        vertical-align: top;\n",
              "    }\n",
              "\n",
              "    .dataframe thead th {\n",
              "        text-align: right;\n",
              "    }\n",
              "</style>\n",
              "<table border=\"1\" class=\"dataframe\">\n",
              "  <thead>\n",
              "    <tr style=\"text-align: right;\">\n",
              "      <th></th>\n",
              "      <th>reviewText</th>\n",
              "      <th>overall</th>\n",
              "    </tr>\n",
              "  </thead>\n",
              "  <tbody>\n",
              "    <tr>\n",
              "      <th>0</th>\n",
              "      <td>Not much to write about here, but it does exac...</td>\n",
              "      <td>5</td>\n",
              "    </tr>\n",
              "    <tr>\n",
              "      <th>1</th>\n",
              "      <td>The product does exactly as it should and is q...</td>\n",
              "      <td>5</td>\n",
              "    </tr>\n",
              "    <tr>\n",
              "      <th>2</th>\n",
              "      <td>The primary job of this device is to block the...</td>\n",
              "      <td>5</td>\n",
              "    </tr>\n",
              "    <tr>\n",
              "      <th>3</th>\n",
              "      <td>Nice windscreen protects my MXL mic and preven...</td>\n",
              "      <td>5</td>\n",
              "    </tr>\n",
              "    <tr>\n",
              "      <th>4</th>\n",
              "      <td>This pop filter is great. It looks and perform...</td>\n",
              "      <td>5</td>\n",
              "    </tr>\n",
              "    <tr>\n",
              "      <th>...</th>\n",
              "      <td>...</td>\n",
              "      <td>...</td>\n",
              "    </tr>\n",
              "    <tr>\n",
              "      <th>10256</th>\n",
              "      <td>Great, just as expected.  Thank to all.</td>\n",
              "      <td>5</td>\n",
              "    </tr>\n",
              "    <tr>\n",
              "      <th>10257</th>\n",
              "      <td>I've been thinking about trying the Nanoweb st...</td>\n",
              "      <td>5</td>\n",
              "    </tr>\n",
              "    <tr>\n",
              "      <th>10258</th>\n",
              "      <td>I have tried coated strings in the past ( incl...</td>\n",
              "      <td>4</td>\n",
              "    </tr>\n",
              "    <tr>\n",
              "      <th>10259</th>\n",
              "      <td>Well, MADE by Elixir and DEVELOPED with Taylor...</td>\n",
              "      <td>4</td>\n",
              "    </tr>\n",
              "    <tr>\n",
              "      <th>10260</th>\n",
              "      <td>These strings are really quite good, but I wou...</td>\n",
              "      <td>4</td>\n",
              "    </tr>\n",
              "  </tbody>\n",
              "</table>\n",
              "<p>10261 rows × 2 columns</p>\n",
              "</div>"
            ],
            "text/plain": [
              "                                              reviewText  overall\n",
              "0      Not much to write about here, but it does exac...        5\n",
              "1      The product does exactly as it should and is q...        5\n",
              "2      The primary job of this device is to block the...        5\n",
              "3      Nice windscreen protects my MXL mic and preven...        5\n",
              "4      This pop filter is great. It looks and perform...        5\n",
              "...                                                  ...      ...\n",
              "10256            Great, just as expected.  Thank to all.        5\n",
              "10257  I've been thinking about trying the Nanoweb st...        5\n",
              "10258  I have tried coated strings in the past ( incl...        4\n",
              "10259  Well, MADE by Elixir and DEVELOPED with Taylor...        4\n",
              "10260  These strings are really quite good, but I wou...        4\n",
              "\n",
              "[10261 rows x 2 columns]"
            ]
          },
          "execution_count": 59,
          "metadata": {},
          "output_type": "execute_result"
        }
      ]
    },
    {
      "cell_type": "markdown",
      "metadata": {
        "id": "Isuq9KgvYELL"
      },
      "source": [
        "### Upper case to lower case transformation"
      ]
    },
    {
      "cell_type": "code",
      "metadata": {
        "id": "x2VwXZ9KYELL"
      },
      "source": [
        "df02['reviewText']=df02['reviewText'].str.lower()"
      ],
      "execution_count": null,
      "outputs": []
    },
    {
      "cell_type": "code",
      "metadata": {
        "id": "u5D5JDgjYELL",
        "outputId": "7c87ac3c-bcfd-48f3-b44f-53aaf5281152"
      },
      "source": [
        "df02"
      ],
      "execution_count": null,
      "outputs": [
        {
          "data": {
            "text/html": [
              "<div>\n",
              "<style scoped>\n",
              "    .dataframe tbody tr th:only-of-type {\n",
              "        vertical-align: middle;\n",
              "    }\n",
              "\n",
              "    .dataframe tbody tr th {\n",
              "        vertical-align: top;\n",
              "    }\n",
              "\n",
              "    .dataframe thead th {\n",
              "        text-align: right;\n",
              "    }\n",
              "</style>\n",
              "<table border=\"1\" class=\"dataframe\">\n",
              "  <thead>\n",
              "    <tr style=\"text-align: right;\">\n",
              "      <th></th>\n",
              "      <th>reviewText</th>\n",
              "      <th>overall</th>\n",
              "    </tr>\n",
              "  </thead>\n",
              "  <tbody>\n",
              "    <tr>\n",
              "      <th>0</th>\n",
              "      <td>not much to write about here, but it does exac...</td>\n",
              "      <td>5</td>\n",
              "    </tr>\n",
              "    <tr>\n",
              "      <th>1</th>\n",
              "      <td>the product does exactly as it should and is q...</td>\n",
              "      <td>5</td>\n",
              "    </tr>\n",
              "    <tr>\n",
              "      <th>2</th>\n",
              "      <td>the primary job of this device is to block the...</td>\n",
              "      <td>5</td>\n",
              "    </tr>\n",
              "    <tr>\n",
              "      <th>3</th>\n",
              "      <td>nice windscreen protects my mxl mic and preven...</td>\n",
              "      <td>5</td>\n",
              "    </tr>\n",
              "    <tr>\n",
              "      <th>4</th>\n",
              "      <td>this pop filter is great. it looks and perform...</td>\n",
              "      <td>5</td>\n",
              "    </tr>\n",
              "    <tr>\n",
              "      <th>...</th>\n",
              "      <td>...</td>\n",
              "      <td>...</td>\n",
              "    </tr>\n",
              "    <tr>\n",
              "      <th>10256</th>\n",
              "      <td>great, just as expected.  thank to all.</td>\n",
              "      <td>5</td>\n",
              "    </tr>\n",
              "    <tr>\n",
              "      <th>10257</th>\n",
              "      <td>i've been thinking about trying the nanoweb st...</td>\n",
              "      <td>5</td>\n",
              "    </tr>\n",
              "    <tr>\n",
              "      <th>10258</th>\n",
              "      <td>i have tried coated strings in the past ( incl...</td>\n",
              "      <td>4</td>\n",
              "    </tr>\n",
              "    <tr>\n",
              "      <th>10259</th>\n",
              "      <td>well, made by elixir and developed with taylor...</td>\n",
              "      <td>4</td>\n",
              "    </tr>\n",
              "    <tr>\n",
              "      <th>10260</th>\n",
              "      <td>these strings are really quite good, but i wou...</td>\n",
              "      <td>4</td>\n",
              "    </tr>\n",
              "  </tbody>\n",
              "</table>\n",
              "<p>10261 rows × 2 columns</p>\n",
              "</div>"
            ],
            "text/plain": [
              "                                              reviewText  overall\n",
              "0      not much to write about here, but it does exac...        5\n",
              "1      the product does exactly as it should and is q...        5\n",
              "2      the primary job of this device is to block the...        5\n",
              "3      nice windscreen protects my mxl mic and preven...        5\n",
              "4      this pop filter is great. it looks and perform...        5\n",
              "...                                                  ...      ...\n",
              "10256            great, just as expected.  thank to all.        5\n",
              "10257  i've been thinking about trying the nanoweb st...        5\n",
              "10258  i have tried coated strings in the past ( incl...        4\n",
              "10259  well, made by elixir and developed with taylor...        4\n",
              "10260  these strings are really quite good, but i wou...        4\n",
              "\n",
              "[10261 rows x 2 columns]"
            ]
          },
          "execution_count": 61,
          "metadata": {},
          "output_type": "execute_result"
        }
      ]
    },
    {
      "cell_type": "markdown",
      "metadata": {
        "id": "IoBMZOX1YELM"
      },
      "source": [
        "### Reconstructing the sentence"
      ]
    },
    {
      "cell_type": "code",
      "metadata": {
        "id": "sYjnFk4XYELM",
        "outputId": "c7978cb2-32b4-440e-a45b-0c091950871b"
      },
      "source": [
        "df02['reviewText']=[reconstruct(sentence) for sentence in df02['reviewText']]\n",
        "df02"
      ],
      "execution_count": null,
      "outputs": [
        {
          "data": {
            "text/html": [
              "<div>\n",
              "<style scoped>\n",
              "    .dataframe tbody tr th:only-of-type {\n",
              "        vertical-align: middle;\n",
              "    }\n",
              "\n",
              "    .dataframe tbody tr th {\n",
              "        vertical-align: top;\n",
              "    }\n",
              "\n",
              "    .dataframe thead th {\n",
              "        text-align: right;\n",
              "    }\n",
              "</style>\n",
              "<table border=\"1\" class=\"dataframe\">\n",
              "  <thead>\n",
              "    <tr style=\"text-align: right;\">\n",
              "      <th></th>\n",
              "      <th>reviewText</th>\n",
              "      <th>overall</th>\n",
              "    </tr>\n",
              "  </thead>\n",
              "  <tbody>\n",
              "    <tr>\n",
              "      <th>0</th>\n",
              "      <td>not much to write about here  but it does exac...</td>\n",
              "      <td>5</td>\n",
              "    </tr>\n",
              "    <tr>\n",
              "      <th>1</th>\n",
              "      <td>the product does exactly as it should and is q...</td>\n",
              "      <td>5</td>\n",
              "    </tr>\n",
              "    <tr>\n",
              "      <th>2</th>\n",
              "      <td>the primary job of this device is to block the...</td>\n",
              "      <td>5</td>\n",
              "    </tr>\n",
              "    <tr>\n",
              "      <th>3</th>\n",
              "      <td>nice windscreen protects my mxl mic and preven...</td>\n",
              "      <td>5</td>\n",
              "    </tr>\n",
              "    <tr>\n",
              "      <th>4</th>\n",
              "      <td>this pop filter is great  it looks and perform...</td>\n",
              "      <td>5</td>\n",
              "    </tr>\n",
              "    <tr>\n",
              "      <th>...</th>\n",
              "      <td>...</td>\n",
              "      <td>...</td>\n",
              "    </tr>\n",
              "    <tr>\n",
              "      <th>10256</th>\n",
              "      <td>great  just as expected   thank to all</td>\n",
              "      <td>5</td>\n",
              "    </tr>\n",
              "    <tr>\n",
              "      <th>10257</th>\n",
              "      <td>i ve been thinking about trying the nanoweb st...</td>\n",
              "      <td>5</td>\n",
              "    </tr>\n",
              "    <tr>\n",
              "      <th>10258</th>\n",
              "      <td>i have tried coated strings in the past   incl...</td>\n",
              "      <td>4</td>\n",
              "    </tr>\n",
              "    <tr>\n",
              "      <th>10259</th>\n",
              "      <td>well  made by elixir and developed with taylor...</td>\n",
              "      <td>4</td>\n",
              "    </tr>\n",
              "    <tr>\n",
              "      <th>10260</th>\n",
              "      <td>these strings are really quite good  but i wou...</td>\n",
              "      <td>4</td>\n",
              "    </tr>\n",
              "  </tbody>\n",
              "</table>\n",
              "<p>10261 rows × 2 columns</p>\n",
              "</div>"
            ],
            "text/plain": [
              "                                              reviewText  overall\n",
              "0      not much to write about here  but it does exac...        5\n",
              "1      the product does exactly as it should and is q...        5\n",
              "2      the primary job of this device is to block the...        5\n",
              "3      nice windscreen protects my mxl mic and preven...        5\n",
              "4      this pop filter is great  it looks and perform...        5\n",
              "...                                                  ...      ...\n",
              "10256            great  just as expected   thank to all         5\n",
              "10257  i ve been thinking about trying the nanoweb st...        5\n",
              "10258  i have tried coated strings in the past   incl...        4\n",
              "10259  well  made by elixir and developed with taylor...        4\n",
              "10260  these strings are really quite good  but i wou...        4\n",
              "\n",
              "[10261 rows x 2 columns]"
            ]
          },
          "execution_count": 62,
          "metadata": {},
          "output_type": "execute_result"
        }
      ]
    },
    {
      "cell_type": "markdown",
      "metadata": {
        "id": "TnVpD8k6YELN"
      },
      "source": [
        "### Word Tokenization"
      ]
    },
    {
      "cell_type": "code",
      "metadata": {
        "id": "c0BRBtTtYELN"
      },
      "source": [
        "df02['reviewText']= [word_tokenize(entry) for entry in df02['reviewText']]"
      ],
      "execution_count": null,
      "outputs": []
    },
    {
      "cell_type": "code",
      "metadata": {
        "id": "y99WT2GZYELO",
        "outputId": "8b5860fe-9ecb-4069-f90a-8c40c9840f25"
      },
      "source": [
        "df02"
      ],
      "execution_count": null,
      "outputs": [
        {
          "data": {
            "text/html": [
              "<div>\n",
              "<style scoped>\n",
              "    .dataframe tbody tr th:only-of-type {\n",
              "        vertical-align: middle;\n",
              "    }\n",
              "\n",
              "    .dataframe tbody tr th {\n",
              "        vertical-align: top;\n",
              "    }\n",
              "\n",
              "    .dataframe thead th {\n",
              "        text-align: right;\n",
              "    }\n",
              "</style>\n",
              "<table border=\"1\" class=\"dataframe\">\n",
              "  <thead>\n",
              "    <tr style=\"text-align: right;\">\n",
              "      <th></th>\n",
              "      <th>reviewText</th>\n",
              "      <th>overall</th>\n",
              "    </tr>\n",
              "  </thead>\n",
              "  <tbody>\n",
              "    <tr>\n",
              "      <th>0</th>\n",
              "      <td>[not, much, to, write, about, here, but, it, d...</td>\n",
              "      <td>5</td>\n",
              "    </tr>\n",
              "    <tr>\n",
              "      <th>1</th>\n",
              "      <td>[the, product, does, exactly, as, it, should, ...</td>\n",
              "      <td>5</td>\n",
              "    </tr>\n",
              "    <tr>\n",
              "      <th>2</th>\n",
              "      <td>[the, primary, job, of, this, device, is, to, ...</td>\n",
              "      <td>5</td>\n",
              "    </tr>\n",
              "    <tr>\n",
              "      <th>3</th>\n",
              "      <td>[nice, windscreen, protects, my, mxl, mic, and...</td>\n",
              "      <td>5</td>\n",
              "    </tr>\n",
              "    <tr>\n",
              "      <th>4</th>\n",
              "      <td>[this, pop, filter, is, great, it, looks, and,...</td>\n",
              "      <td>5</td>\n",
              "    </tr>\n",
              "    <tr>\n",
              "      <th>...</th>\n",
              "      <td>...</td>\n",
              "      <td>...</td>\n",
              "    </tr>\n",
              "    <tr>\n",
              "      <th>10256</th>\n",
              "      <td>[great, just, as, expected, thank, to, all]</td>\n",
              "      <td>5</td>\n",
              "    </tr>\n",
              "    <tr>\n",
              "      <th>10257</th>\n",
              "      <td>[i, ve, been, thinking, about, trying, the, na...</td>\n",
              "      <td>5</td>\n",
              "    </tr>\n",
              "    <tr>\n",
              "      <th>10258</th>\n",
              "      <td>[i, have, tried, coated, strings, in, the, pas...</td>\n",
              "      <td>4</td>\n",
              "    </tr>\n",
              "    <tr>\n",
              "      <th>10259</th>\n",
              "      <td>[well, made, by, elixir, and, developed, with,...</td>\n",
              "      <td>4</td>\n",
              "    </tr>\n",
              "    <tr>\n",
              "      <th>10260</th>\n",
              "      <td>[these, strings, are, really, quite, good, but...</td>\n",
              "      <td>4</td>\n",
              "    </tr>\n",
              "  </tbody>\n",
              "</table>\n",
              "<p>10261 rows × 2 columns</p>\n",
              "</div>"
            ],
            "text/plain": [
              "                                              reviewText  overall\n",
              "0      [not, much, to, write, about, here, but, it, d...        5\n",
              "1      [the, product, does, exactly, as, it, should, ...        5\n",
              "2      [the, primary, job, of, this, device, is, to, ...        5\n",
              "3      [nice, windscreen, protects, my, mxl, mic, and...        5\n",
              "4      [this, pop, filter, is, great, it, looks, and,...        5\n",
              "...                                                  ...      ...\n",
              "10256        [great, just, as, expected, thank, to, all]        5\n",
              "10257  [i, ve, been, thinking, about, trying, the, na...        5\n",
              "10258  [i, have, tried, coated, strings, in, the, pas...        4\n",
              "10259  [well, made, by, elixir, and, developed, with,...        4\n",
              "10260  [these, strings, are, really, quite, good, but...        4\n",
              "\n",
              "[10261 rows x 2 columns]"
            ]
          },
          "execution_count": 64,
          "metadata": {},
          "output_type": "execute_result"
        }
      ]
    },
    {
      "cell_type": "markdown",
      "metadata": {
        "id": "8FiicCH7YELO"
      },
      "source": [
        "### Mapping ratings to positive->1 and negativ->0 classes"
      ]
    },
    {
      "cell_type": "code",
      "metadata": {
        "id": "2l0nHjX8YELP",
        "outputId": "c1764bff-9d24-4740-c82b-776f9cc562c6"
      },
      "source": [
        "#(4,5)->positive\n",
        "#(1,2)->negative\n",
        "#3->negative\n",
        "removed_indices=list()\n",
        "for index,rating in enumerate(df02['overall']):\n",
        "    if rating in (4,5):\n",
        "        sentiment=1\n",
        "        df02.loc[index,'polarity'] = sentiment\n",
        "    elif rating in (1,2):\n",
        "        sentiment=0\n",
        "        df02.loc[index,'polarity'] = sentiment\n",
        "    else:\n",
        "        df02 = df02.drop(index)\n",
        "        removed_indices.append(index)\n",
        "df02"
      ],
      "execution_count": null,
      "outputs": [
        {
          "data": {
            "text/html": [
              "<div>\n",
              "<style scoped>\n",
              "    .dataframe tbody tr th:only-of-type {\n",
              "        vertical-align: middle;\n",
              "    }\n",
              "\n",
              "    .dataframe tbody tr th {\n",
              "        vertical-align: top;\n",
              "    }\n",
              "\n",
              "    .dataframe thead th {\n",
              "        text-align: right;\n",
              "    }\n",
              "</style>\n",
              "<table border=\"1\" class=\"dataframe\">\n",
              "  <thead>\n",
              "    <tr style=\"text-align: right;\">\n",
              "      <th></th>\n",
              "      <th>reviewText</th>\n",
              "      <th>overall</th>\n",
              "      <th>polarity</th>\n",
              "    </tr>\n",
              "  </thead>\n",
              "  <tbody>\n",
              "    <tr>\n",
              "      <th>0</th>\n",
              "      <td>[not, much, to, write, about, here, but, it, d...</td>\n",
              "      <td>5</td>\n",
              "      <td>1.0</td>\n",
              "    </tr>\n",
              "    <tr>\n",
              "      <th>1</th>\n",
              "      <td>[the, product, does, exactly, as, it, should, ...</td>\n",
              "      <td>5</td>\n",
              "      <td>1.0</td>\n",
              "    </tr>\n",
              "    <tr>\n",
              "      <th>2</th>\n",
              "      <td>[the, primary, job, of, this, device, is, to, ...</td>\n",
              "      <td>5</td>\n",
              "      <td>1.0</td>\n",
              "    </tr>\n",
              "    <tr>\n",
              "      <th>3</th>\n",
              "      <td>[nice, windscreen, protects, my, mxl, mic, and...</td>\n",
              "      <td>5</td>\n",
              "      <td>1.0</td>\n",
              "    </tr>\n",
              "    <tr>\n",
              "      <th>4</th>\n",
              "      <td>[this, pop, filter, is, great, it, looks, and,...</td>\n",
              "      <td>5</td>\n",
              "      <td>1.0</td>\n",
              "    </tr>\n",
              "    <tr>\n",
              "      <th>...</th>\n",
              "      <td>...</td>\n",
              "      <td>...</td>\n",
              "      <td>...</td>\n",
              "    </tr>\n",
              "    <tr>\n",
              "      <th>10256</th>\n",
              "      <td>[great, just, as, expected, thank, to, all]</td>\n",
              "      <td>5</td>\n",
              "      <td>1.0</td>\n",
              "    </tr>\n",
              "    <tr>\n",
              "      <th>10257</th>\n",
              "      <td>[i, ve, been, thinking, about, trying, the, na...</td>\n",
              "      <td>5</td>\n",
              "      <td>1.0</td>\n",
              "    </tr>\n",
              "    <tr>\n",
              "      <th>10258</th>\n",
              "      <td>[i, have, tried, coated, strings, in, the, pas...</td>\n",
              "      <td>4</td>\n",
              "      <td>1.0</td>\n",
              "    </tr>\n",
              "    <tr>\n",
              "      <th>10259</th>\n",
              "      <td>[well, made, by, elixir, and, developed, with,...</td>\n",
              "      <td>4</td>\n",
              "      <td>1.0</td>\n",
              "    </tr>\n",
              "    <tr>\n",
              "      <th>10260</th>\n",
              "      <td>[these, strings, are, really, quite, good, but...</td>\n",
              "      <td>4</td>\n",
              "      <td>1.0</td>\n",
              "    </tr>\n",
              "  </tbody>\n",
              "</table>\n",
              "<p>9489 rows × 3 columns</p>\n",
              "</div>"
            ],
            "text/plain": [
              "                                              reviewText  overall  polarity\n",
              "0      [not, much, to, write, about, here, but, it, d...        5       1.0\n",
              "1      [the, product, does, exactly, as, it, should, ...        5       1.0\n",
              "2      [the, primary, job, of, this, device, is, to, ...        5       1.0\n",
              "3      [nice, windscreen, protects, my, mxl, mic, and...        5       1.0\n",
              "4      [this, pop, filter, is, great, it, looks, and,...        5       1.0\n",
              "...                                                  ...      ...       ...\n",
              "10256        [great, just, as, expected, thank, to, all]        5       1.0\n",
              "10257  [i, ve, been, thinking, about, trying, the, na...        5       1.0\n",
              "10258  [i, have, tried, coated, strings, in, the, pas...        4       1.0\n",
              "10259  [well, made, by, elixir, and, developed, with,...        4       1.0\n",
              "10260  [these, strings, are, really, quite, good, but...        4       1.0\n",
              "\n",
              "[9489 rows x 3 columns]"
            ]
          },
          "execution_count": 65,
          "metadata": {},
          "output_type": "execute_result"
        }
      ]
    },
    {
      "cell_type": "code",
      "metadata": {
        "id": "KLTJvhIqYELP"
      },
      "source": [
        "df02 = df02.astype({\"overall\":'int',\"polarity\":'int'})"
      ],
      "execution_count": null,
      "outputs": []
    },
    {
      "cell_type": "code",
      "metadata": {
        "id": "aDK_JfRpYELP"
      },
      "source": [
        "# Rewriting the indices\n",
        "i=0\n",
        "for j in range(10261):\n",
        "    if j not in removed_indices:\n",
        "        df02.loc[j,'index1']=i\n",
        "        i+=1\n",
        "df02 = df02.astype({\"index1\":'int'})\n",
        "df02.set_index(\"index1\", inplace = True)"
      ],
      "execution_count": null,
      "outputs": []
    },
    {
      "cell_type": "code",
      "metadata": {
        "id": "eIM9lvNkYELP",
        "outputId": "bfe67833-5573-4dea-dffb-96a6dfb89522"
      },
      "source": [
        "df02"
      ],
      "execution_count": null,
      "outputs": [
        {
          "data": {
            "text/html": [
              "<div>\n",
              "<style scoped>\n",
              "    .dataframe tbody tr th:only-of-type {\n",
              "        vertical-align: middle;\n",
              "    }\n",
              "\n",
              "    .dataframe tbody tr th {\n",
              "        vertical-align: top;\n",
              "    }\n",
              "\n",
              "    .dataframe thead th {\n",
              "        text-align: right;\n",
              "    }\n",
              "</style>\n",
              "<table border=\"1\" class=\"dataframe\">\n",
              "  <thead>\n",
              "    <tr style=\"text-align: right;\">\n",
              "      <th></th>\n",
              "      <th>reviewText</th>\n",
              "      <th>overall</th>\n",
              "      <th>polarity</th>\n",
              "    </tr>\n",
              "    <tr>\n",
              "      <th>index1</th>\n",
              "      <th></th>\n",
              "      <th></th>\n",
              "      <th></th>\n",
              "    </tr>\n",
              "  </thead>\n",
              "  <tbody>\n",
              "    <tr>\n",
              "      <th>0</th>\n",
              "      <td>[not, much, to, write, about, here, but, it, d...</td>\n",
              "      <td>5</td>\n",
              "      <td>1</td>\n",
              "    </tr>\n",
              "    <tr>\n",
              "      <th>1</th>\n",
              "      <td>[the, product, does, exactly, as, it, should, ...</td>\n",
              "      <td>5</td>\n",
              "      <td>1</td>\n",
              "    </tr>\n",
              "    <tr>\n",
              "      <th>2</th>\n",
              "      <td>[the, primary, job, of, this, device, is, to, ...</td>\n",
              "      <td>5</td>\n",
              "      <td>1</td>\n",
              "    </tr>\n",
              "    <tr>\n",
              "      <th>3</th>\n",
              "      <td>[nice, windscreen, protects, my, mxl, mic, and...</td>\n",
              "      <td>5</td>\n",
              "      <td>1</td>\n",
              "    </tr>\n",
              "    <tr>\n",
              "      <th>4</th>\n",
              "      <td>[this, pop, filter, is, great, it, looks, and,...</td>\n",
              "      <td>5</td>\n",
              "      <td>1</td>\n",
              "    </tr>\n",
              "    <tr>\n",
              "      <th>...</th>\n",
              "      <td>...</td>\n",
              "      <td>...</td>\n",
              "      <td>...</td>\n",
              "    </tr>\n",
              "    <tr>\n",
              "      <th>9484</th>\n",
              "      <td>[great, just, as, expected, thank, to, all]</td>\n",
              "      <td>5</td>\n",
              "      <td>1</td>\n",
              "    </tr>\n",
              "    <tr>\n",
              "      <th>9485</th>\n",
              "      <td>[i, ve, been, thinking, about, trying, the, na...</td>\n",
              "      <td>5</td>\n",
              "      <td>1</td>\n",
              "    </tr>\n",
              "    <tr>\n",
              "      <th>9486</th>\n",
              "      <td>[i, have, tried, coated, strings, in, the, pas...</td>\n",
              "      <td>4</td>\n",
              "      <td>1</td>\n",
              "    </tr>\n",
              "    <tr>\n",
              "      <th>9487</th>\n",
              "      <td>[well, made, by, elixir, and, developed, with,...</td>\n",
              "      <td>4</td>\n",
              "      <td>1</td>\n",
              "    </tr>\n",
              "    <tr>\n",
              "      <th>9488</th>\n",
              "      <td>[these, strings, are, really, quite, good, but...</td>\n",
              "      <td>4</td>\n",
              "      <td>1</td>\n",
              "    </tr>\n",
              "  </tbody>\n",
              "</table>\n",
              "<p>9489 rows × 3 columns</p>\n",
              "</div>"
            ],
            "text/plain": [
              "                                               reviewText  overall  polarity\n",
              "index1                                                                      \n",
              "0       [not, much, to, write, about, here, but, it, d...        5         1\n",
              "1       [the, product, does, exactly, as, it, should, ...        5         1\n",
              "2       [the, primary, job, of, this, device, is, to, ...        5         1\n",
              "3       [nice, windscreen, protects, my, mxl, mic, and...        5         1\n",
              "4       [this, pop, filter, is, great, it, looks, and,...        5         1\n",
              "...                                                   ...      ...       ...\n",
              "9484          [great, just, as, expected, thank, to, all]        5         1\n",
              "9485    [i, ve, been, thinking, about, trying, the, na...        5         1\n",
              "9486    [i, have, tried, coated, strings, in, the, pas...        4         1\n",
              "9487    [well, made, by, elixir, and, developed, with,...        4         1\n",
              "9488    [these, strings, are, really, quite, good, but...        4         1\n",
              "\n",
              "[9489 rows x 3 columns]"
            ]
          },
          "execution_count": 69,
          "metadata": {},
          "output_type": "execute_result"
        }
      ]
    },
    {
      "cell_type": "markdown",
      "metadata": {
        "id": "mbpQjzFkYELQ"
      },
      "source": [
        "### Removing Stopwords and Lemmatization"
      ]
    },
    {
      "cell_type": "code",
      "metadata": {
        "id": "HQAKaHYjYELQ"
      },
      "source": [
        "## Defining set containing all stopwords in english\n",
        "stpwordlist=['i', 'me', 'my', 'myself', 'we', 'our', 'ours', 'ourselves', 'you', \"you're\", \"you've\", \"you'll\", \"you'd\", 'your',\n",
        " 'yours', 'yourself', 'yourselves', 'he', 'him', 'his', 'himself', 'she', \"she's\", 'her', 'hers', 'herself', 'it', \"it's\",\n",
        " 'its', 'itself', 'they', 'them', 'their', 'theirs', 'themselves', 'what', 'which', 'who', 'whom', 'this', 'that', \"that'll\",\n",
        " 'these', 'those', 'am', 'is', 'are', 'was', 'were', 'be', 'been', 'being', 'have', 'has', 'had', 'having', 'do', 'does',\n",
        " 'did', 'doing', 'a', 'an', 'the', 'and', 'but', 'if', 'or', 'because', 'as', 'until', 'while', 'of', 'at', 'by', 'for',\n",
        " 'with', 'about', 'against', 'between', 'into', 'through', 'during', 'before', 'after', 'above', 'below', 'to', 'from', 'up',\n",
        " 'down', 'in', 'out', 'on', 'off', 'over', 'under', 'again', 'further', 'then', 'once', 'here', 'there', 'when', 'where',\n",
        " 'why', 'how', 'all', 'any', 'both', 'each', 'few', 'more', 'most', 'other', 'some', 'such', 'only', 'own', 'same', 'so',\n",
        " 'than', 'too', 'very', 's', 't', 'can', 'will', 'just', 'now', 'd', 'll', 'm', 'o', 're', 've', 'y']"
      ],
      "execution_count": null,
      "outputs": []
    },
    {
      "cell_type": "code",
      "metadata": {
        "id": "fzLOSYJaYELQ"
      },
      "source": [
        "# WordNetLemmatizer requires Pos tags to understand if the word is noun or verb or adjective etc. By default it is set to Noun\n",
        "tag_map = defaultdict(lambda : wn.NOUN)\n",
        "tag_map['J'] = wn.ADJ\n",
        "tag_map['V'] = wn.VERB\n",
        "tag_map['R'] = wn.ADV\n",
        "for index,entry in enumerate(df02['reviewText']):\n",
        "    #if index not in removed_indices:\n",
        "    # Declaring Empty List to store the words that follow the rules for this step\n",
        "    Final_words = []\n",
        "    # Initializing WordNetLemmatizer()\n",
        "    word_Lemmatized = WordNetLemmatizer()\n",
        "    # pos_tag function below will provide the 'tag' i.e if the word is Noun(N) or Verb(V) or something else.\n",
        "    for word, tag in pos_tag(entry):\n",
        "        # Below condition is to check for Stop words and consider only alphabets\n",
        "        if word not in stpwordlist and word.isalpha() and len(word)>2:\n",
        "            word_Final = word_Lemmatized.lemmatize(word,tag_map[tag[0]])\n",
        "            Final_words.append(word_Final)\n",
        "    # The final processed set of words for each iteration will be stored in 'text_final'\n",
        "    df02.loc[index,'text_final'] = str(Final_words)"
      ],
      "execution_count": null,
      "outputs": []
    },
    {
      "cell_type": "code",
      "metadata": {
        "id": "FD9Om1GTYELQ",
        "outputId": "09621701-da3e-4448-a416-6a2f3cda423e"
      },
      "source": [
        "df02"
      ],
      "execution_count": null,
      "outputs": [
        {
          "data": {
            "text/html": [
              "<div>\n",
              "<style scoped>\n",
              "    .dataframe tbody tr th:only-of-type {\n",
              "        vertical-align: middle;\n",
              "    }\n",
              "\n",
              "    .dataframe tbody tr th {\n",
              "        vertical-align: top;\n",
              "    }\n",
              "\n",
              "    .dataframe thead th {\n",
              "        text-align: right;\n",
              "    }\n",
              "</style>\n",
              "<table border=\"1\" class=\"dataframe\">\n",
              "  <thead>\n",
              "    <tr style=\"text-align: right;\">\n",
              "      <th></th>\n",
              "      <th>reviewText</th>\n",
              "      <th>overall</th>\n",
              "      <th>polarity</th>\n",
              "      <th>text_final</th>\n",
              "    </tr>\n",
              "    <tr>\n",
              "      <th>index1</th>\n",
              "      <th></th>\n",
              "      <th></th>\n",
              "      <th></th>\n",
              "      <th></th>\n",
              "    </tr>\n",
              "  </thead>\n",
              "  <tbody>\n",
              "    <tr>\n",
              "      <th>0</th>\n",
              "      <td>[not, much, to, write, about, here, but, it, d...</td>\n",
              "      <td>5</td>\n",
              "      <td>1</td>\n",
              "      <td>['not', 'much', 'write', 'exactly', 'suppose',...</td>\n",
              "    </tr>\n",
              "    <tr>\n",
              "      <th>1</th>\n",
              "      <td>[the, product, does, exactly, as, it, should, ...</td>\n",
              "      <td>5</td>\n",
              "      <td>1</td>\n",
              "      <td>['product', 'exactly', 'should', 'quite', 'aff...</td>\n",
              "    </tr>\n",
              "    <tr>\n",
              "      <th>2</th>\n",
              "      <td>[the, primary, job, of, this, device, is, to, ...</td>\n",
              "      <td>5</td>\n",
              "      <td>1</td>\n",
              "      <td>['primary', 'job', 'device', 'block', 'breath'...</td>\n",
              "    </tr>\n",
              "    <tr>\n",
              "      <th>3</th>\n",
              "      <td>[nice, windscreen, protects, my, mxl, mic, and...</td>\n",
              "      <td>5</td>\n",
              "      <td>1</td>\n",
              "      <td>['nice', 'windscreen', 'protects', 'mxl', 'mic...</td>\n",
              "    </tr>\n",
              "    <tr>\n",
              "      <th>4</th>\n",
              "      <td>[this, pop, filter, is, great, it, looks, and,...</td>\n",
              "      <td>5</td>\n",
              "      <td>1</td>\n",
              "      <td>['pop', 'filter', 'great', 'look', 'performs',...</td>\n",
              "    </tr>\n",
              "    <tr>\n",
              "      <th>...</th>\n",
              "      <td>...</td>\n",
              "      <td>...</td>\n",
              "      <td>...</td>\n",
              "      <td>...</td>\n",
              "    </tr>\n",
              "    <tr>\n",
              "      <th>9484</th>\n",
              "      <td>[great, just, as, expected, thank, to, all]</td>\n",
              "      <td>5</td>\n",
              "      <td>1</td>\n",
              "      <td>['great', 'expect', 'thank']</td>\n",
              "    </tr>\n",
              "    <tr>\n",
              "      <th>9485</th>\n",
              "      <td>[i, ve, been, thinking, about, trying, the, na...</td>\n",
              "      <td>5</td>\n",
              "      <td>1</td>\n",
              "      <td>['think', 'try', 'nanoweb', 'string', 'bit', '...</td>\n",
              "    </tr>\n",
              "    <tr>\n",
              "      <th>9486</th>\n",
              "      <td>[i, have, tried, coated, strings, in, the, pas...</td>\n",
              "      <td>4</td>\n",
              "      <td>1</td>\n",
              "      <td>['try', 'coat', 'string', 'past', 'include', '...</td>\n",
              "    </tr>\n",
              "    <tr>\n",
              "      <th>9487</th>\n",
              "      <td>[well, made, by, elixir, and, developed, with,...</td>\n",
              "      <td>4</td>\n",
              "      <td>1</td>\n",
              "      <td>['well', 'make', 'elixir', 'develop', 'taylor'...</td>\n",
              "    </tr>\n",
              "    <tr>\n",
              "      <th>9488</th>\n",
              "      <td>[these, strings, are, really, quite, good, but...</td>\n",
              "      <td>4</td>\n",
              "      <td>1</td>\n",
              "      <td>['string', 'really', 'quite', 'good', 'wouldn'...</td>\n",
              "    </tr>\n",
              "  </tbody>\n",
              "</table>\n",
              "<p>9489 rows × 4 columns</p>\n",
              "</div>"
            ],
            "text/plain": [
              "                                               reviewText  overall  polarity  \\\n",
              "index1                                                                         \n",
              "0       [not, much, to, write, about, here, but, it, d...        5         1   \n",
              "1       [the, product, does, exactly, as, it, should, ...        5         1   \n",
              "2       [the, primary, job, of, this, device, is, to, ...        5         1   \n",
              "3       [nice, windscreen, protects, my, mxl, mic, and...        5         1   \n",
              "4       [this, pop, filter, is, great, it, looks, and,...        5         1   \n",
              "...                                                   ...      ...       ...   \n",
              "9484          [great, just, as, expected, thank, to, all]        5         1   \n",
              "9485    [i, ve, been, thinking, about, trying, the, na...        5         1   \n",
              "9486    [i, have, tried, coated, strings, in, the, pas...        4         1   \n",
              "9487    [well, made, by, elixir, and, developed, with,...        4         1   \n",
              "9488    [these, strings, are, really, quite, good, but...        4         1   \n",
              "\n",
              "                                               text_final  \n",
              "index1                                                     \n",
              "0       ['not', 'much', 'write', 'exactly', 'suppose',...  \n",
              "1       ['product', 'exactly', 'should', 'quite', 'aff...  \n",
              "2       ['primary', 'job', 'device', 'block', 'breath'...  \n",
              "3       ['nice', 'windscreen', 'protects', 'mxl', 'mic...  \n",
              "4       ['pop', 'filter', 'great', 'look', 'performs',...  \n",
              "...                                                   ...  \n",
              "9484                         ['great', 'expect', 'thank']  \n",
              "9485    ['think', 'try', 'nanoweb', 'string', 'bit', '...  \n",
              "9486    ['try', 'coat', 'string', 'past', 'include', '...  \n",
              "9487    ['well', 'make', 'elixir', 'develop', 'taylor'...  \n",
              "9488    ['string', 'really', 'quite', 'good', 'wouldn'...  \n",
              "\n",
              "[9489 rows x 4 columns]"
            ]
          },
          "execution_count": 73,
          "metadata": {},
          "output_type": "execute_result"
        }
      ]
    },
    {
      "cell_type": "markdown",
      "metadata": {
        "id": "4rTw8YUdYELR"
      },
      "source": [
        "## Feature Extractor"
      ]
    },
    {
      "cell_type": "markdown",
      "metadata": {
        "id": "le7KeS_6YELR"
      },
      "source": [
        "### Splitting of dataset"
      ]
    },
    {
      "cell_type": "code",
      "metadata": {
        "id": "bohHDdrpYELR"
      },
      "source": [
        "#preparing train and test datasets\n",
        "Train_X,Test_X,Train_Y,Test_Y = model_selection.train_test_split(df02['text_final'],df02['polarity'],test_size=0.2)"
      ],
      "execution_count": null,
      "outputs": []
    },
    {
      "cell_type": "code",
      "metadata": {
        "id": "u-pZ-NksYELR"
      },
      "source": [
        "#Encoding\n",
        "Encoder=LabelEncoder()\n",
        "Train_Y=Encoder.fit_transform(Train_Y)\n",
        "Test_Y=Encoder.fit_transform(Test_Y)"
      ],
      "execution_count": null,
      "outputs": []
    },
    {
      "cell_type": "markdown",
      "metadata": {
        "id": "ZXVykyFlYELS"
      },
      "source": [
        "### TFIDF"
      ]
    },
    {
      "cell_type": "code",
      "metadata": {
        "id": "RD9EqwF6YELS"
      },
      "source": [
        "# It is a general process of turning a collection of text documents into numerical feature vectors.\n",
        "#Their are many methods to convert text data to vectors which the model can understand but by far the most popular method is called TF-IDF.\n",
        "#This is an acronym than stands for “Term Frequency — Inverse Document” Frequency which are the components of the resulting scores assigned to each word.\n",
        "#Term Frequency: This summarizes how often a given word appears within a document.\n",
        "#Inverse Document Frequency: This down scales words that appear a lot across documents.\n",
        "#Without going into the math, TF-IDF are word frequency scores that try to highlight words that are more interesting, \n",
        "#e.g. frequent in a document but not across documents.\n",
        "#The following syntax can be used to first fit the TG-IDF model on the whole corpus. \n",
        "#This will help TF-IDF build a vocabulary of words which it has learned from the corpus data and it will assign a unique integer number to each of these words. \n",
        "#Their will be maximum of 5000 unique words/features as we have set parameter max_features=5000.\n",
        "#Finally we will transform Train_X and Test_X to vectorized Train_X_Tfidf and Test_X_Tfidf. \n",
        "#These will now contain for each row a list of unique integer number and its associated importance as calculated by TF-IDF\n",
        "\n",
        "Tfidf_vect=TfidfVectorizer(max_features=5000)\n",
        "Tfidf_vect.fit(df02['text_final'])\n",
        "\n",
        "Train_X_Tfidf = Tfidf_vect.transform(Train_X)\n",
        "Test_X_Tfidf = Tfidf_vect.transform(Test_X)"
      ],
      "execution_count": null,
      "outputs": []
    },
    {
      "cell_type": "code",
      "metadata": {
        "id": "j5FSDWknYELS",
        "outputId": "fbd90ae9-a936-4885-b699-631daf0d7597"
      },
      "source": [
        "##Output:\n",
        "#1: Row number of ‘Train_X_Tfidf’, \n",
        "#2: Unique Integer number of each word in the first row, \n",
        "#3: Score calculated by TF-IDF Vectorizer\n",
        "print(Train_X_Tfidf)"
      ],
      "execution_count": null,
      "outputs": [
        {
          "name": "stdout",
          "output_type": "stream",
          "text": [
            "  (0, 4883)\t0.08506356204839746\n",
            "  (0, 4725)\t0.07486087396160644\n",
            "  (0, 4712)\t0.09505721625815065\n",
            "  (0, 4463)\t0.04837349860253304\n",
            "  (0, 4427)\t0.054718440389646454\n",
            "  (0, 4316)\t0.11323639604318253\n",
            "  (0, 4300)\t0.06310019731067033\n",
            "  (0, 4247)\t0.06875148967973496\n",
            "  (0, 4216)\t0.10650993482415537\n",
            "  (0, 4198)\t0.08828451220036364\n",
            "  (0, 4181)\t0.057252528274970384\n",
            "  (0, 4075)\t0.03867263007522449\n",
            "  (0, 3819)\t0.056655002895285814\n",
            "  (0, 3684)\t0.07439841908001632\n",
            "  (0, 3569)\t0.11579367791284248\n",
            "  (0, 3567)\t0.09211853884590213\n",
            "  (0, 3423)\t0.23674488455542242\n",
            "  (0, 3346)\t0.08696534112849796\n",
            "  (0, 3345)\t0.10536537795559615\n",
            "  (0, 3293)\t0.09332244996237046\n",
            "  (0, 3198)\t0.11383971687955276\n",
            "  (0, 3134)\t0.11001544589121635\n",
            "  (0, 3078)\t0.09296946867585425\n",
            "  (0, 2914)\t0.10384009988023264\n",
            "  (0, 2851)\t0.11649972040616698\n",
            "  :\t:\n",
            "  (7589, 2037)\t0.2746183781139543\n",
            "  (7589, 1950)\t0.13029059427237877\n",
            "  (7589, 1883)\t0.1375406875283353\n",
            "  (7589, 1598)\t0.29417304708058833\n",
            "  (7589, 1543)\t0.2764372323251937\n",
            "  (7589, 1102)\t0.4874830234863664\n",
            "  (7589, 838)\t0.2870450217740379\n",
            "  (7589, 488)\t0.300560144783141\n",
            "  (7590, 4927)\t0.10275628285756433\n",
            "  (7590, 4772)\t0.5001958180631426\n",
            "  (7590, 4193)\t0.23441594155287382\n",
            "  (7590, 4156)\t0.3097240638089988\n",
            "  (7590, 3997)\t0.2337436035981295\n",
            "  (7590, 3130)\t0.2455192678559546\n",
            "  (7590, 2875)\t0.16024180095138038\n",
            "  (7590, 2822)\t0.20736590001408284\n",
            "  (7590, 2500)\t0.10094626419373465\n",
            "  (7590, 1841)\t0.09920719270202655\n",
            "  (7590, 1295)\t0.20332116321648938\n",
            "  (7590, 978)\t0.19382475249917508\n",
            "  (7590, 696)\t0.3085853683472762\n",
            "  (7590, 692)\t0.29426849200553296\n",
            "  (7590, 582)\t0.22256174195990874\n",
            "  (7590, 197)\t0.20134868488199295\n",
            "  (7590, 52)\t0.18422264771702232\n"
          ]
        }
      ]
    },
    {
      "cell_type": "markdown",
      "metadata": {
        "id": "nz2sbl62YELX"
      },
      "source": [
        "### Classifiers"
      ]
    },
    {
      "cell_type": "code",
      "metadata": {
        "id": "nAkE64h5YELY",
        "outputId": "277c9ce8-0233-4f89-821c-db09f17d8372"
      },
      "source": [
        "# fit the training dataset on the NB classifier\n",
        "Naive = naive_bayes.MultinomialNB()\n",
        "Naive.fit(Train_X_Tfidf,Train_Y)\n",
        "# predict the labels on validation dataset\n",
        "predictions_NB = Naive.predict(Test_X_Tfidf)\n",
        "# Use accuracy_score function to get the accuracy\n",
        "print(\"Naive Bayes Accuracy Score -> \",math.floor(accuracy_score(predictions_NB, Test_Y)*100))"
      ],
      "execution_count": null,
      "outputs": [
        {
          "name": "stdout",
          "output_type": "stream",
          "text": [
            "Naive Bayes Accuracy Score ->  95\n"
          ]
        }
      ]
    },
    {
      "cell_type": "code",
      "metadata": {
        "id": "mJjZc4tHYELY",
        "outputId": "251a1964-3d48-4055-ef85-4b1732b9a194"
      },
      "source": [
        "# Classifier - Algorithm - SVM\n",
        "# fit the training dataset on the classifier\n",
        "SVM = svm.SVC(C=1.0, kernel='linear', degree=3, gamma='auto')\n",
        "#SVM = LinearSVC()\n",
        "SVM.fit(Train_X_Tfidf,Train_Y)\n",
        "# predict the labels on validation dataset\n",
        "predictions_SVM = SVM.predict(Test_X_Tfidf)\n",
        "# Use accuracy_score function to get the accuracy\n",
        "print(\"SVM Accuracy Score -> \",math.ceil(accuracy_score(predictions_SVM, Test_Y)*100))"
      ],
      "execution_count": null,
      "outputs": [
        {
          "name": "stdout",
          "output_type": "stream",
          "text": [
            "SVM Accuracy Score ->  96\n"
          ]
        }
      ]
    }
  ]
}